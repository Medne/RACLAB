{
 "cells": [
  {
   "cell_type": "markdown",
   "metadata": {},
   "source": [
    "# Contents\n",
    "* [Print Kullanımı](#Print-Kullanımı)\n",
    "* [Temel Matamatiksel İşlemler](#Temel-Matamatiksel-İşlemler)\n",
    "* [Bool ve Mantık Operatörleri](#Bool-ve-Mantık-Operatörleri)\n",
    "* [Değişken Türleri](#Değişken-Türleri)\n",
    "* [Değişken Türleri Arası Dönüşüm](#Değişken-Türleri-Arası-Dönüşüm)\n",
    "* [Değişken Türleri Arası Dönüşüm](#Değişken-Türleri-Arası-Dönüşüm)\n",
    "* [Listeler](#Listeler)\n",
    "* [Tuple](#Tuple)\n",
    "* [Stringler](#Stringler)\n",
    "* [Dictionary](#Dictionary)\n",
    "* [Sets](#Sets)\n",
    "* [Koşul İfadeleri](#Koşul-İfadeleri)\n",
    "* [While Loop](#While-Loop)\n",
    "* [For Loop](#For-Loop)\n",
    "* [Break and Continue](#Break-and-Continue)\n",
    "* [List Comprehensions](#List-Comprehensions)\n",
    "* [Convert a list to a dictionary](#Convert-a-list-to-a-dictionary)\n",
    "* [User Defined Function](#User-Defined-Function)\n",
    "* [Lambda Function](#Lambda-Function)\n",
    "* [Anonymous Funcion](#Anonymous-Funcion)\n",
    "* [Iterators](#Iterators)\n",
    "* [Zip](#Zip)\n",
    "* [Classes](#Classes)\n",
    "* [Extra](#Extra)"
   ]
  },
  {
   "cell_type": "markdown",
   "metadata": {},
   "source": [
    "### Print Kullanımı"
   ]
  },
  {
   "cell_type": "code",
   "execution_count": 1,
   "metadata": {},
   "outputs": [
    {
     "name": "stdout",
     "output_type": "stream",
     "text": [
      "Merhaba Dünya\n",
      "5\n"
     ]
    }
   ],
   "source": [
    "print \"Merhaba Dünya\" #Mesajı yazdırır.\n",
    "print 5 #sayıyı yazdırır."
   ]
  },
  {
   "cell_type": "markdown",
   "metadata": {},
   "source": [
    "### Temel Matamatiksel İşlemler"
   ]
  },
  {
   "cell_type": "code",
   "execution_count": 2,
   "metadata": {},
   "outputs": [
    {
     "name": "stdout",
     "output_type": "stream",
     "text": [
      "7\n",
      "-1\n",
      "12\n",
      "0\n",
      "0.75\n",
      "27\n",
      "2.0\n",
      "4\n"
     ]
    }
   ],
   "source": [
    "print 3+4 #Toplama\n",
    "print 3-4 #Çıkarma\n",
    "print 3*4 #Çarpma\n",
    "print 3/4 #Bölme (int türünde)\n",
    "print 3.0/4 #Bölme (float)\n",
    "print 3**3 #Kuvvet alama\n",
    "print 4**0.5 #Karakök alma\n",
    "print 34%5 #Mod alma"
   ]
  },
  {
   "cell_type": "code",
   "execution_count": 3,
   "metadata": {},
   "outputs": [
    {
     "name": "stdout",
     "output_type": "stream",
     "text": [
      "4\n",
      "8\n"
     ]
    }
   ],
   "source": [
    "x = 3\n",
    "x += 1 # x = x + 1 yerine\n",
    "print x # x'in eski değeri 3, yeni değeri 4\n",
    "\n",
    "x *= 2 # x = x * 2 yerine\n",
    "print x # x'in eski değeri 4, yeni değeri 8"
   ]
  },
  {
   "cell_type": "markdown",
   "metadata": {},
   "source": [
    "### Bool ve Mantık Operatörleri"
   ]
  },
  {
   "cell_type": "code",
   "execution_count": 4,
   "metadata": {},
   "outputs": [
    {
     "name": "stdout",
     "output_type": "stream",
     "text": [
      "False\n",
      "True\n",
      "False\n",
      "True\n"
     ]
    }
   ],
   "source": [
    "t, f = True, False\n",
    "\n",
    "print (t and f) # Mantıksal AND;\n",
    "print (t or f)  # Mantıksal OR;\n",
    "print (not t)   # Mantıksal NOT;\n",
    "print (t != f)  # Mantıksal XOR;"
   ]
  },
  {
   "cell_type": "markdown",
   "metadata": {},
   "source": [
    "### Değişken Türleri"
   ]
  },
  {
   "cell_type": "code",
   "execution_count": 5,
   "metadata": {},
   "outputs": [
    {
     "name": "stdout",
     "output_type": "stream",
     "text": [
      "<type 'float'>\n",
      "<type 'int'>\n",
      "<type 'str'>\n",
      "<type 'bool'>\n"
     ]
    }
   ],
   "source": [
    "a = 3.0\n",
    "b = 5\n",
    "c = \"string\"\n",
    "d = True\n",
    "#type değişken türünü döndürür.\n",
    "print type(a)\n",
    "print type(b)\n",
    "print type(c)\n",
    "print type(d)"
   ]
  },
  {
   "cell_type": "markdown",
   "metadata": {},
   "source": [
    "### Değişken Türleri Arası Dönüşüm"
   ]
  },
  {
   "cell_type": "code",
   "execution_count": 6,
   "metadata": {},
   "outputs": [
    {
     "name": "stdout",
     "output_type": "stream",
     "text": [
      "3.0 <type 'int'>\n",
      "4.3 <type 'float'>\n",
      "3 <type 'str'>\n"
     ]
    }
   ],
   "source": [
    "a = 3\n",
    "b = 4.3\n",
    "c = \"3\"\n",
    "print float(a), type(a)\n",
    "print str(b), type(b)\n",
    "print int(c), type(c)"
   ]
  },
  {
   "cell_type": "markdown",
   "metadata": {},
   "source": [
    "### Listeler"
   ]
  },
  {
   "cell_type": "code",
   "execution_count": 7,
   "metadata": {},
   "outputs": [
    {
     "name": "stdout",
     "output_type": "stream",
     "text": [
      "<type 'list'>\n",
      "[2, 3, 5, 6, 5, 5]\n",
      "2\n",
      "5\n",
      "[2, 3]\n",
      "[5, 5, 6, 5, 3, 2]\n",
      "6\n"
     ]
    }
   ],
   "source": [
    "liste = [2,3,5,6,5,5] \n",
    "print type(liste) #Listenin type'ını yazdırır.\n",
    "\n",
    "print liste #listenin tamamını yazdırır.\n",
    "print liste[0] #listenin 0. indeksli elemanını yazdırır.\n",
    "print liste[-1] #listenin son elemanını yazdırır.\n",
    "print liste[:2] #listenin 2. indeks'e kadarki elamanlarını yazdırır.\n",
    "print liste[::-1] #listeyi tersten yazdırır.\n",
    "print len(liste) #listenin uzunluğunu yazdırır."
   ]
  },
  {
   "cell_type": "code",
   "execution_count": 8,
   "metadata": {},
   "outputs": [
    {
     "name": "stdout",
     "output_type": "stream",
     "text": [
      "<type 'list'>\n",
      "[2, 3, 'python', 555, 6, 5, 5]\n"
     ]
    }
   ],
   "source": [
    "liste[2] = \"python\" # Listelerde farklı veri tipleri tutulabilir\n",
    "liste.insert(3,555) #listemizin istediğimiz bir indisine eleman ekleyebiliriz.\n",
    "print type(liste)\n",
    "print liste"
   ]
  },
  {
   "cell_type": "code",
   "execution_count": 9,
   "metadata": {},
   "outputs": [
    {
     "name": "stdout",
     "output_type": "stream",
     "text": [
      "[2, 3, 'python', 555, 6, 5, 5, 'yeni eleman']\n",
      "[2, 3, 'python', 555, 6, 5, 5]\n"
     ]
    }
   ],
   "source": [
    "liste.append(\"yeni eleman\") # Listenin en sonuna `append` ile veri eklenebilir\n",
    "print liste\n",
    "liste.pop() # Listenin son elemanını atar.\n",
    "print liste"
   ]
  },
  {
   "cell_type": "code",
   "execution_count": 10,
   "metadata": {},
   "outputs": [
    {
     "name": "stdout",
     "output_type": "stream",
     "text": [
      "2\n",
      "2\n",
      "[2, 3, 555, 6, 5, 5]\n"
     ]
    }
   ],
   "source": [
    "print liste.index('python') #elemanın kaçıncı indekste olduğunu verir.\n",
    "print liste.count(5) #elemandan listede kaç adet bulunduğunu verir.\n",
    "\n",
    "liste.remove('python')\n",
    "print liste"
   ]
  },
  {
   "cell_type": "code",
   "execution_count": 11,
   "metadata": {},
   "outputs": [
    {
     "name": "stdout",
     "output_type": "stream",
     "text": [
      "[2, 3, 5, 5, 6, 555]\n",
      "[555, 6, 5, 5, 3, 2]\n"
     ]
    }
   ],
   "source": [
    "liste.sort() #listeyi küçükten büyüğe sıralar.\n",
    "print liste\n",
    "liste.reverse() #listeyi ters çevirir.\n",
    "print liste"
   ]
  },
  {
   "cell_type": "code",
   "execution_count": 12,
   "metadata": {},
   "outputs": [
    {
     "name": "stdout",
     "output_type": "stream",
     "text": [
      "[555, 6, 5, 5, 3, 2, 1, 11, 111, 1111]\n"
     ]
    }
   ],
   "source": [
    "ek_liste = [1, 11, 111, 1111]\n",
    "liste.extend(ek_liste) # listenin sonuna başka bir bir listeyi ekleyebiliriz.\n",
    "print liste"
   ]
  },
  {
   "cell_type": "code",
   "execution_count": 13,
   "metadata": {},
   "outputs": [
    {
     "name": "stdout",
     "output_type": "stream",
     "text": [
      "False\n",
      "True\n"
     ]
    }
   ],
   "source": [
    "print \"python\" in liste #listenin içinde python elemanı varmı kontrol eder.\n",
    "print \"python\" not in liste"
   ]
  },
  {
   "cell_type": "code",
   "execution_count": 14,
   "metadata": {},
   "outputs": [
    {
     "name": "stdout",
     "output_type": "stream",
     "text": [
      "['a', 'b', 'c', 'd', 'e']\n"
     ]
    }
   ],
   "source": [
    "string = \"a,b,c,d,e\"\n",
    "liste = string.split(',') # girilen karaktere göre string'i ayırır.\n",
    "print liste"
   ]
  },
  {
   "cell_type": "code",
   "execution_count": 15,
   "metadata": {},
   "outputs": [
    {
     "name": "stdout",
     "output_type": "stream",
     "text": [
      "[1, 2, 3, 4, 5]\n",
      "[1, 2, 3, 4, 5]\n"
     ]
    }
   ],
   "source": [
    "liste1 = [1,2,3,4]\n",
    "liste2 = liste1 #liste1 ve liste2 aynı adrese bağlıdır.\n",
    "liste1.append(5) #liste1'e eleman eklendiğinde liste2 de etkilenir.\n",
    "print liste2 \n",
    "\n",
    "liste1 = [5,6,7] #ama liste1'in tamamen değişmesinden etkilenmez.\n",
    "print liste2"
   ]
  },
  {
   "cell_type": "code",
   "execution_count": 16,
   "metadata": {},
   "outputs": [
    {
     "name": "stdout",
     "output_type": "stream",
     "text": [
      "[1, 2, 3, 4, 5]\n",
      "[1, 2, 3, 4]\n"
     ]
    }
   ],
   "source": [
    "liste1 = [1,2,3,4]\n",
    "copy_liste = list(liste1) #liste1 bu metod ile kopyalamak liste1 deki değişikliklerden copy_liste'yi etkilemez.\n",
    "#copy_liste = liste1[:] #bir diğer metod ise listeyi dilimleyerek kopyalamaktır.\n",
    "\n",
    "liste1.append(5)\n",
    "print liste1\n",
    "\n",
    "print copy_liste"
   ]
  },
  {
   "cell_type": "code",
   "execution_count": 17,
   "metadata": {},
   "outputs": [
    {
     "name": "stdout",
     "output_type": "stream",
     "text": [
      "[0, 1, 2, 3, 4]\n"
     ]
    }
   ],
   "source": [
    "sayilar = list(range(5)) # 0'dan 5'e kadar (5 hariç) tam sayı listesi oluşturalım\n",
    "print sayilar"
   ]
  },
  {
   "cell_type": "markdown",
   "metadata": {},
   "source": [
    "### Tuple"
   ]
  },
  {
   "cell_type": "code",
   "execution_count": 18,
   "metadata": {},
   "outputs": [
    {
     "name": "stdout",
     "output_type": "stream",
     "text": [
      "<type 'tuple'>\n",
      "(3, 5, 6)\n",
      "<type 'tuple'>\n",
      "<type 'list'>\n"
     ]
    }
   ],
   "source": [
    "tuples = (3,5,6)\n",
    "print type(tuples)\n",
    "print tuples\n",
    "\n",
    "print type(tuple(liste)) #listeyi tuple'a dönüştürelim.\n",
    "print type(list(tuples)) #tuple'ı listeye dönüştürelim."
   ]
  },
  {
   "cell_type": "markdown",
   "metadata": {},
   "source": [
    "### Stringler"
   ]
  },
  {
   "cell_type": "code",
   "execution_count": 19,
   "metadata": {},
   "outputs": [
    {
     "name": "stdout",
     "output_type": "stream",
     "text": [
      "merhaba\n",
      "7\n",
      "merhaba 7\n",
      "merhaba7\n",
      "merhaba 7\n",
      "merhaba\n",
      "merhaba dünya\n",
      "dünya merhaba\n",
      "merhaba dünya\n"
     ]
    }
   ],
   "source": [
    "merhaba = 'merhaba' # tek tırnak da kullanılabilir\n",
    "dunya = \"dünya\" # çift tırnak da\n",
    "\n",
    "print merhaba # \"merhaba\" yazdırır\n",
    "print len(merhaba) # \"merhaba\" da kaç karakter olduğunu yazdırır\n",
    "print merhaba, len(merhaba) # ikisi birlikte\n",
    "print merhaba + str(len(merhaba)) # sayıyı str() fonksiyonu ile string'e çevirelim\n",
    "\n",
    "print '%s %d' % (merhaba, len(merhaba))  # önce veri tipi sonra değişkenler tanımlanabilir \n",
    "print(\"{}\".format(merhaba)) # .format() ile ekrana değişken yazdırma\n",
    "print(\"{} {}\".format(merhaba, dunya)) \n",
    "print(\"{a} {b}\".format(b = merhaba, a = dunya)) \n",
    "\n",
    "birlesim = merhaba + \" \" + dunya #iki string birleştirilebilir.\n",
    "print birlesim"
   ]
  },
  {
   "cell_type": "code",
   "execution_count": 20,
   "metadata": {},
   "outputs": [
    {
     "name": "stdout",
     "output_type": "stream",
     "text": [
      "a\n",
      "K\n",
      "ay ZEKA\n",
      "AKEZ yapay\n"
     ]
    }
   ],
   "source": [
    "kelime = \"yapay ZEKA\"\n",
    "print kelime[1] #kelimenin 1. indeksini yazdırır.\n",
    "print kelime[-2] #kelimenin sondan 2. elemanını yazdırır.\n",
    "print kelime[3:] #kelimenin 3. indeksinden sonraki elemanlarını yazdırır.\n",
    "print kelime[::-1] #kelimeyi tersten yazdırır."
   ]
  },
  {
   "cell_type": "code",
   "execution_count": 21,
   "metadata": {},
   "outputs": [
    {
     "name": "stdout",
     "output_type": "stream",
     "text": [
      "Yapay zeka\n",
      "YAPAY ZEKA\n",
      "yapay zeka\n",
      "     yapay ZEKA\n",
      "   yapay ZEKA  \n",
      "yapay zekalar\n",
      "yapay zeka önemlidir :)\n"
     ]
    }
   ],
   "source": [
    "print kelime.capitalize()  # İlk harf büyük \n",
    "print kelime.upper()      # Hepsi büyük harf\n",
    "print kelime.lower()      # Hepsi küçük harf\n",
    "print kelime.rjust(15)     # Sağa yasla\n",
    "print kelime.center(15)    # Merkeze ortala\n",
    "print kelime.replace('ZEKA', 'zekalar')  # \"ZEKA\"ları \"zekalar\" ile değiştirelim\n",
    "print '        yapay zeka önemlidir :) '.strip()  # boşlukları silmek için strip() kullanılır"
   ]
  },
  {
   "cell_type": "code",
   "execution_count": 22,
   "metadata": {},
   "outputs": [
    {
     "name": "stdout",
     "output_type": "stream",
     "text": [
      "2\n",
      "False\n",
      "9\n",
      "9\n"
     ]
    }
   ],
   "source": [
    "print kelime.count(\"a\")\n",
    "print kelime.startswith(\"zeka\") #kelime zeka ilemi başlıyor? (true yada false döndürür.)\n",
    "print kelime.index(\"A\") #\"A\" harfinin hangi indiste bulunduğunu verir. (İlk bulduğu indeksi döndürür.) \n",
    "print kelime.find(\"A\") #\"A\" harfinin hangi indiste bulunduğunu verir. (İlk bulduğu indeksi döndürür.) "
   ]
  },
  {
   "cell_type": "code",
   "execution_count": 23,
   "metadata": {},
   "outputs": [
    {
     "name": "stdout",
     "output_type": "stream",
     "text": [
      "True\n",
      "True\n",
      "True False\n"
     ]
    }
   ],
   "source": [
    "d = \"1234\"\n",
    "e = \"asdf\"\n",
    "h = \"1as\"\n",
    "j = \".,\"\n",
    "print d.isdigit() #sitring içerisindeki karakterlerin hepsi sayımı diye kontrol eder.\n",
    "print e.isalpha() #sitring içerisindeki karakterlerin hepsi harf mi diye kontol eder.\n",
    "print h.isalnum(), j.isalnum() #sitring içerisindeki karakterler harf veya sayımı diye kontrol eder."
   ]
  },
  {
   "cell_type": "markdown",
   "metadata": {},
   "source": [
    "### Dictionary"
   ]
  },
  {
   "cell_type": "code",
   "execution_count": 24,
   "metadata": {},
   "outputs": [
    {
     "name": "stdout",
     "output_type": "stream",
     "text": [
      "<type 'dict'>\n",
      "{'Kayseri': 'Manti', 'Amasya': 'Elma', 'Malatya': 'Kayisi'}\n"
     ]
    }
   ],
   "source": [
    "meshur = {'Kayseri': 'Manti', 'Amasya': 'Elma', 'Malatya': 'Kayisi'}  # Sözlük oluşturalım\n",
    "print type(meshur)\n",
    "print meshur"
   ]
  },
  {
   "cell_type": "code",
   "execution_count": 25,
   "metadata": {},
   "outputs": [
    {
     "name": "stdout",
     "output_type": "stream",
     "text": [
      "['Kayseri', 'Amasya', 'Malatya']\n",
      "['Manti', 'Elma', 'Kayisi']\n"
     ]
    }
   ],
   "source": [
    "print meshur.keys()\n",
    "print meshur.values()"
   ]
  },
  {
   "cell_type": "code",
   "execution_count": 26,
   "metadata": {},
   "outputs": [
    {
     "data": {
      "text/plain": [
       "[('Kayseri', 'Manti'), ('Amasya', 'Elma'), ('Malatya', 'Kayisi')]"
      ]
     },
     "execution_count": 26,
     "metadata": {},
     "output_type": "execute_result"
    }
   ],
   "source": [
    "meshur.items()"
   ]
  },
  {
   "cell_type": "code",
   "execution_count": 27,
   "metadata": {},
   "outputs": [
    {
     "name": "stdout",
     "output_type": "stream",
     "text": [
      "Kayisi\n",
      "True\n"
     ]
    }
   ],
   "source": [
    "print meshur['Malatya'] # \"Malatya\" anahtar değerine ait değer ekrana yazdırılır.\n",
    "print 'Amasya' in meshur # \"Amasya\" anahtar değeri sözlüğümüzde varsa \"True\" döndürür. "
   ]
  },
  {
   "cell_type": "code",
   "execution_count": 28,
   "metadata": {},
   "outputs": [
    {
     "name": "stdout",
     "output_type": "stream",
     "text": [
      "{'Kayseri': 'Manti', 'Amasya': 'Elma', 'Malatya': 'Kayisi', 'Istanbul': 'Trafik'}\n"
     ]
    }
   ],
   "source": [
    "meshur['Istanbul'] = 'Trafik' # Sözlüğe yeni bir girdi ekleyelim.\n",
    "print meshur"
   ]
  },
  {
   "cell_type": "code",
   "execution_count": 29,
   "metadata": {},
   "outputs": [
    {
     "name": "stdout",
     "output_type": "stream",
     "text": [
      "N/A\n",
      "Elma\n"
     ]
    }
   ],
   "source": [
    "print (meshur.get('Ankara', 'N/A')) # \"N/A\" döndürür\n",
    "print (meshur.get('Amasya', 'N/A')) # \"Elma\" döndürür"
   ]
  },
  {
   "cell_type": "code",
   "execution_count": 30,
   "metadata": {},
   "outputs": [
    {
     "name": "stdout",
     "output_type": "stream",
     "text": [
      "N/A\n",
      "{'Kayseri': 'Manti', 'Malatya': 'Kayisi', 'Istanbul': 'Trafik'}\n"
     ]
    }
   ],
   "source": [
    "del meshur['Amasya'] # Sözlükten bir değeri silelim.\n",
    "print meshur.get('Amasya', 'N/A') # \"Amasya\" silindiği için \"N/A\" döndürür.\n",
    "print meshur"
   ]
  },
  {
   "cell_type": "code",
   "execution_count": 31,
   "metadata": {},
   "outputs": [
    {
     "name": "stdout",
     "output_type": "stream",
     "text": [
      "{}\n"
     ]
    }
   ],
   "source": [
    "meshur.clear() # Dictionary'yi temizler.\n",
    "print(meshur)"
   ]
  },
  {
   "cell_type": "markdown",
   "metadata": {},
   "source": [
    "### Sets"
   ]
  },
  {
   "cell_type": "code",
   "execution_count": 32,
   "metadata": {},
   "outputs": [
    {
     "name": "stdout",
     "output_type": "stream",
     "text": [
      "<type 'set'>\n",
      "set(['kedi', 'kopek'])\n",
      "True\n",
      "False\n"
     ]
    }
   ],
   "source": [
    "hayvanlar = {'kedi', 'kopek'}\n",
    "\n",
    "print type(hayvanlar)\n",
    "print hayvanlar\n",
    "\n",
    "print 'kedi' in hayvanlar # Kümede o elemanın olup olmadığına bakalım = \"True\"\n",
    "print 'balik' in hayvanlar # Kümede o elemanın olup olmadığına bakalım = \"False\""
   ]
  },
  {
   "cell_type": "code",
   "execution_count": 33,
   "metadata": {},
   "outputs": [
    {
     "name": "stdout",
     "output_type": "stream",
     "text": [
      "True\n",
      "3\n"
     ]
    }
   ],
   "source": [
    "hayvanlar.add('balik') # Kümeye eleman ekleyelim\n",
    "print 'balik' in hayvanlar\n",
    "\n",
    "print len(hayvanlar) # Kümenin eleman sayısını yazdıralım"
   ]
  },
  {
   "cell_type": "code",
   "execution_count": 34,
   "metadata": {},
   "outputs": [
    {
     "name": "stdout",
     "output_type": "stream",
     "text": [
      "3\n",
      "2\n",
      "set(['balik', 'kopek'])\n"
     ]
    }
   ],
   "source": [
    "hayvanlar.add('kedi') # Kedi zaten kümede ekli olduğu için tekrar eklenmeyecek.\n",
    "print len(hayvanlar)       \n",
    "hayvanlar.remove('kedi') # Kümeden bir elemanı kaldıralım.\n",
    "print len(hayvanlar)  \n",
    "print hayvanlar"
   ]
  },
  {
   "cell_type": "markdown",
   "metadata": {},
   "source": [
    "### Koşul İfadeleri"
   ]
  },
  {
   "cell_type": "code",
   "execution_count": 35,
   "metadata": {},
   "outputs": [
    {
     "name": "stdout",
     "output_type": "stream",
     "text": [
      "10 a eşit yada büyüktür.\n",
      "20 den küçüktür.\n",
      "20 ye eşit yada küçüktür.\n",
      "10 a eşittir.\n",
      "0 dan farklıdır.\n"
     ]
    }
   ],
   "source": [
    "A = 10\n",
    "if A > 10: # A büyüktür müdür 10 dan?\n",
    "    print \"10 dan büyüktür.\"\n",
    "    \n",
    "if A >= 10: #A büyük eşit midir 10 dan?\n",
    "    print \"10 a eşit yada büyüktür.\"\n",
    "\n",
    "if A < 20: #A küçük müdür 20 den?\n",
    "    print \"20 den küçüktür.\"\n",
    "\n",
    "if A <= 20: #A küçük eşit midir 20 den?\n",
    "    print \"20 ye eşit yada küçüktür.\"\n",
    "\n",
    "if A == 10: #A eşit midir 10 a?\n",
    "    print \"10 a eşittir.\"\n",
    "\n",
    "if A != 0: #A farklımıdır 0 dan?\n",
    "    print \"0 dan farklıdır.\""
   ]
  },
  {
   "cell_type": "code",
   "execution_count": 36,
   "metadata": {},
   "outputs": [
    {
     "name": "stdout",
     "output_type": "stream",
     "text": [
      "10 dan büyüktür.\n"
     ]
    }
   ],
   "source": [
    "A = 20\n",
    "\n",
    "if A > 10: # A büyüktür müdür 10 dan?\n",
    "    print \"10 dan büyüktür.\"\n",
    "\n",
    "elif A < 10: #A küçük müdür 10 dan?\n",
    "    print \"10 dan küçüktür.\"\n",
    "\n",
    "else :\n",
    "    print \"10 a eşittir.\"\n",
    "\n",
    "#if koşulu sağlanırsa bir elif ve else koşullarına bakmaz. Hiç bir koşul sağlanaması durumunda else koşulu geçerlidir.    "
   ]
  },
  {
   "cell_type": "markdown",
   "metadata": {},
   "source": [
    "### While Loop"
   ]
  },
  {
   "cell_type": "code",
   "execution_count": 37,
   "metadata": {},
   "outputs": [
    {
     "name": "stdout",
     "output_type": "stream",
     "text": [
      "[0, 1, 2, 3, 4, 5, 6, 7, 8, 9]\n"
     ]
    }
   ],
   "source": [
    "liste = []\n",
    "i = 0\n",
    "while i < 10:\n",
    "    liste.append(i)\n",
    "    i += 1\n",
    "\n",
    "print liste"
   ]
  },
  {
   "cell_type": "markdown",
   "metadata": {},
   "source": [
    "### For Loop"
   ]
  },
  {
   "cell_type": "code",
   "execution_count": 38,
   "metadata": {},
   "outputs": [
    {
     "name": "stdout",
     "output_type": "stream",
     "text": [
      "İstanbul\n",
      "Ankara\n",
      "İzmir\n",
      "Malatya\n"
     ]
    }
   ],
   "source": [
    "iller = ['İstanbul', 'Ankara', 'İzmir', 'Malatya']\n",
    "\n",
    "for i in iller: #listenin tüm elemanlarını sırayla i'ye atar.\n",
    "    print i"
   ]
  },
  {
   "cell_type": "code",
   "execution_count": 39,
   "metadata": {},
   "outputs": [
    {
     "name": "stdout",
     "output_type": "stream",
     "text": [
      "Y\n",
      "a\n",
      "p\n",
      "a\n",
      "y\n",
      " \n",
      "Z\n",
      "e\n",
      "k\n",
      "a\n"
     ]
    }
   ],
   "source": [
    "for harf in 'Yapay Zeka': #string'in tüm karakterlerini sırayla harf'e atar.\n",
    "    print harf"
   ]
  },
  {
   "cell_type": "code",
   "execution_count": 40,
   "metadata": {},
   "outputs": [
    {
     "name": "stdout",
     "output_type": "stream",
     "text": [
      "1: İstanbul\n",
      "2: Ankara\n",
      "3: İzmir\n",
      "4: Malatya\n"
     ]
    }
   ],
   "source": [
    "iller = ['İstanbul', 'Ankara', 'İzmir', 'Malatya']\n",
    "\n",
    "#Döngü içerisinde her bir liste elemanının indeks değerine ulaşmak için enumerate fonksiyonunu kullanabilirsiniz.\n",
    "# index : value = 0:'İstanbul', 1:'Ankara', 2:'İzmir', 3:'Malatya'\n",
    "for index, value in enumerate(iller):\n",
    "    print '%d: %s' % (index + 1, value)"
   ]
  },
  {
   "cell_type": "code",
   "execution_count": 41,
   "metadata": {},
   "outputs": [
    {
     "name": "stdout",
     "output_type": "stream",
     "text": [
      "spain  :  madrid\n",
      "france  :  paris\n",
      "------------\n",
      "\n",
      "spain  :  madrid\n",
      "france  :  paris\n",
      "------------\n",
      "\n",
      "spain\n",
      "france\n",
      "------------\n",
      "\n",
      "madrid\n",
      "paris\n"
     ]
    }
   ],
   "source": [
    "dictionary = {'spain':'madrid','france':'paris'}\n",
    "\n",
    "for key in dictionary:\n",
    "    value = dictionary[key]\n",
    "    print key,\" : \",value\n",
    "\n",
    "print \"------------\\n\"\n",
    "for key,value in dictionary.items():\n",
    "    print key,\" : \",value\n",
    "    \n",
    "print \"------------\\n\"\n",
    "for key in dictionary.keys():\n",
    "    print key\n",
    "\n",
    "print \"------------\\n\"\n",
    "for value in dictionary.values():\n",
    "    print value"
   ]
  },
  {
   "cell_type": "code",
   "execution_count": 42,
   "metadata": {},
   "outputs": [
    {
     "name": "stdout",
     "output_type": "stream",
     "text": [
      "1: balık\n",
      "2: köpek\n",
      "3: kedi\n"
     ]
    }
   ],
   "source": [
    "hayvanlar = {'kedi', 'köpek', 'balık'}\n",
    "\n",
    "for sira, hayvan in enumerate(hayvanlar):\n",
    "    print '%d: %s' % (sira + 1, hayvan)"
   ]
  },
  {
   "cell_type": "code",
   "execution_count": 43,
   "metadata": {},
   "outputs": [
    {
     "name": "stdout",
     "output_type": "stream",
     "text": [
      "[0, 1, 4, 9, 16, 25, 36, 49, 64, 81]\n"
     ]
    }
   ],
   "source": [
    "liste = []\n",
    "for i in range(10):\n",
    "    liste.append(i**2)\n",
    "\n",
    "print liste"
   ]
  },
  {
   "cell_type": "markdown",
   "metadata": {},
   "source": [
    "### Break and Continue"
   ]
  },
  {
   "cell_type": "code",
   "execution_count": 44,
   "metadata": {},
   "outputs": [
    {
     "name": "stdout",
     "output_type": "stream",
     "text": [
      "[0, 1, 2, 3, 4, 6, 7]\n"
     ]
    }
   ],
   "source": [
    "liste = []\n",
    "for i in range(10):\n",
    "    if i == 5:\n",
    "        continue #Döngünün bir sonraki elemanına geçer.\n",
    "    elif i >= 8:\n",
    "        break #Dögüyü kırar.\n",
    "        \n",
    "    liste.append(i)\n",
    "\n",
    "print liste"
   ]
  },
  {
   "cell_type": "markdown",
   "metadata": {},
   "source": [
    "### List Comprehensions"
   ]
  },
  {
   "cell_type": "code",
   "execution_count": 45,
   "metadata": {},
   "outputs": [
    {
     "name": "stdout",
     "output_type": "stream",
     "text": [
      "[0, 1, 4, 9, 16, 25, 36, 49, 64, 81]\n"
     ]
    }
   ],
   "source": [
    "rakamlar = list(range(10))\n",
    "kareler = [rakam ** 2 for rakam in rakamlar]\n",
    "\n",
    "print kareler"
   ]
  },
  {
   "cell_type": "code",
   "execution_count": 46,
   "metadata": {},
   "outputs": [
    {
     "name": "stdout",
     "output_type": "stream",
     "text": [
      "[0, 4, 16, 36, 64]\n",
      "[1, 9, 25, 49, 81]\n"
     ]
    }
   ],
   "source": [
    "#Conditionals on iterable\n",
    "cift_kareler = [rakam ** 2 for rakam in rakamlar if rakam % 2 == 0]\n",
    "tek_kareler = [rakam ** 2 for rakam in rakamlar if (rakam % 2) == 1]\n",
    "\n",
    "print cift_kareler\n",
    "print tek_kareler"
   ]
  },
  {
   "cell_type": "code",
   "execution_count": 47,
   "metadata": {},
   "outputs": [
    {
     "name": "stdout",
     "output_type": "stream",
     "text": [
      "[0, 100, 20]\n"
     ]
    }
   ],
   "source": [
    "num1 = [5,10,15]\n",
    "num2 = [i**2 if i == 10 else i-5 if i < 7 else i+5 for i in num1]\n",
    "print num2"
   ]
  },
  {
   "cell_type": "markdown",
   "metadata": {},
   "source": [
    "### Convert a list to a dictionary"
   ]
  },
  {
   "cell_type": "code",
   "execution_count": 48,
   "metadata": {},
   "outputs": [
    {
     "name": "stdout",
     "output_type": "stream",
     "text": [
      "{0: 0, 8: 64, 2: 4, 4: 16, 6: 36}\n",
      "<type 'dict'>\n"
     ]
    }
   ],
   "source": [
    "sayilar = [0, 1, 2, 3, 4, 5, 6, 7, 8, 9]\n",
    "cift_kare = {x: x ** 2 for x in sayilar  if x % 2 == 0}\n",
    "print cift_kare\n",
    "print type(cift_kare)"
   ]
  },
  {
   "cell_type": "markdown",
   "metadata": {},
   "source": [
    "### User Defined Function"
   ]
  },
  {
   "cell_type": "code",
   "execution_count": 49,
   "metadata": {},
   "outputs": [
    {
     "name": "stdout",
     "output_type": "stream",
     "text": [
      "1 2 3\n"
     ]
    }
   ],
   "source": [
    "def tuble_ex():\n",
    "    \"\"\" return defined t tuble\"\"\"\n",
    "    t = (1,2,3)\n",
    "    return t\n",
    "a,b,c = tuble_ex()\n",
    "print a,b,c"
   ]
  },
  {
   "cell_type": "code",
   "execution_count": 50,
   "metadata": {},
   "outputs": [
    {
     "name": "stdout",
     "output_type": "stream",
     "text": [
      "2\n",
      "3\n"
     ]
    }
   ],
   "source": [
    "x = 2\n",
    "def f():\n",
    "    x = 3\n",
    "    return x\n",
    "print x      # x = 2 global scope\n",
    "print f()    # x = 3 local scope"
   ]
  },
  {
   "cell_type": "code",
   "execution_count": 51,
   "metadata": {},
   "outputs": [
    {
     "name": "stdout",
     "output_type": "stream",
     "text": [
      "10\n"
     ]
    }
   ],
   "source": [
    "# What if there is no local scope\n",
    "x = 5\n",
    "def f():\n",
    "    y = 2*x        # there is no local scope x\n",
    "    return y\n",
    "print(f())         # it uses global scope x\n",
    "# ilk olarak local scope'a bakar yok ise global scope'u kullanır."
   ]
  },
  {
   "cell_type": "code",
   "execution_count": 52,
   "metadata": {},
   "outputs": [
    {
     "name": "stdout",
     "output_type": "stream",
     "text": [
      "25\n"
     ]
    }
   ],
   "source": [
    "#nested function # iç içe fonksiyonlar\n",
    "def square():\n",
    "    \"\"\" return square of value \"\"\"\n",
    "    def add():\n",
    "        \"\"\" add two local variable \"\"\"\n",
    "        x = 2\n",
    "        y = 3\n",
    "        z = x + y\n",
    "        return z\n",
    "    return add()**2\n",
    "print(square())   "
   ]
  },
  {
   "cell_type": "code",
   "execution_count": 53,
   "metadata": {},
   "outputs": [
    {
     "name": "stdout",
     "output_type": "stream",
     "text": [
      "8\n",
      "12\n"
     ]
    }
   ],
   "source": [
    "# default arguments\n",
    "def f(a, b = 1, c = 2):\n",
    "    y = a + b + c\n",
    "    return y\n",
    "print(f(5))\n",
    "# what if we want to change default arguments\n",
    "print(f(5,4,3))"
   ]
  },
  {
   "cell_type": "code",
   "execution_count": 54,
   "metadata": {},
   "outputs": [
    {
     "name": "stdout",
     "output_type": "stream",
     "text": [
      "1\n",
      "\n",
      "1\n",
      "2\n",
      "3\n",
      "4\n"
     ]
    }
   ],
   "source": [
    "# flexible arguments *args\n",
    "def f(*args):\n",
    "    for i in args:\n",
    "        print(i)\n",
    "f(1)\n",
    "print(\"\")\n",
    "f(1,2,3,4)"
   ]
  },
  {
   "cell_type": "code",
   "execution_count": 55,
   "metadata": {},
   "outputs": [
    {
     "name": "stdout",
     "output_type": "stream",
     "text": [
      "('country', ' ', 'spain')\n",
      "('population', ' ', 123456)\n",
      "('capital', ' ', 'madrid')\n"
     ]
    }
   ],
   "source": [
    "# flexible arguments **kwargs that is dictionary\n",
    "def f(**kwargs):\n",
    "    \"\"\" print key and value of dictionary\"\"\"\n",
    "    for key, value in kwargs.items():               # If you do not understand this part turn for loop part and look at dictionary in for loop\n",
    "        print(key, \" \", value)\n",
    "f(country = 'spain', capital = 'madrid', population = 123456)"
   ]
  },
  {
   "cell_type": "markdown",
   "metadata": {},
   "source": [
    "### Lambda Function"
   ]
  },
  {
   "cell_type": "code",
   "execution_count": 56,
   "metadata": {},
   "outputs": [
    {
     "name": "stdout",
     "output_type": "stream",
     "text": [
      "16\n",
      "6\n"
     ]
    }
   ],
   "source": [
    "# lambda function\n",
    "square = lambda x: x**2     # where x is name of argument\n",
    "print square(4)\n",
    "tot = lambda x,y,z: x+y+z   # where x,y,z are names of arguments\n",
    "print tot(1,2,3)"
   ]
  },
  {
   "cell_type": "markdown",
   "metadata": {},
   "source": [
    "### Anonymous Funcion\n",
    "Like lambda function but it can take more than one arguments.\n",
    "* map(func,seq) : applies a function to all the items in a list"
   ]
  },
  {
   "cell_type": "code",
   "execution_count": 57,
   "metadata": {},
   "outputs": [
    {
     "name": "stdout",
     "output_type": "stream",
     "text": [
      "[1, 4, 9]\n"
     ]
    }
   ],
   "source": [
    "number_list = [1,2,3]\n",
    "y = map(lambda x:x**2,number_list)\n",
    "print(list(y))"
   ]
  },
  {
   "cell_type": "markdown",
   "metadata": {},
   "source": [
    "### Iterators"
   ]
  },
  {
   "cell_type": "code",
   "execution_count": 58,
   "metadata": {},
   "outputs": [
    {
     "name": "stdout",
     "output_type": "stream",
     "text": [
      "r\n",
      "o\n"
     ]
    }
   ],
   "source": [
    "# iteration example\n",
    "name = \"ronaldo\"\n",
    "it = iter(name)\n",
    "print next(it)    # print next iteration\n",
    "print next(it)\n",
    "#print *it         # print remaining iteration"
   ]
  },
  {
   "cell_type": "markdown",
   "metadata": {},
   "source": [
    "### Zip"
   ]
  },
  {
   "cell_type": "code",
   "execution_count": 59,
   "metadata": {},
   "outputs": [
    {
     "name": "stdout",
     "output_type": "stream",
     "text": [
      "[(1, 5), (2, 6), (3, 7), (4, 8)]\n",
      "[(1, 5), (2, 6), (3, 7), (4, 8)]\n"
     ]
    }
   ],
   "source": [
    "# zip example\n",
    "list1 = [1,2,3,4]\n",
    "list2 = [5,6,7,8]\n",
    "z = zip(list1,list2)\n",
    "print(z)\n",
    "z_list = list(z)\n",
    "print(z_list)"
   ]
  },
  {
   "cell_type": "code",
   "execution_count": 60,
   "metadata": {},
   "outputs": [
    {
     "name": "stdout",
     "output_type": "stream",
     "text": [
      "(1, 2, 3, 4)\n",
      "(5, 6, 7, 8)\n",
      "<type 'tuple'>\n"
     ]
    }
   ],
   "source": [
    "un_zip = zip(*z_list)\n",
    "un_list1,un_list2 = list(un_zip) # unzip returns tuble\n",
    "print(un_list1)\n",
    "print(un_list2)\n",
    "print(type(un_list2))"
   ]
  },
  {
   "cell_type": "markdown",
   "metadata": {},
   "source": [
    "### Classes"
   ]
  },
  {
   "cell_type": "code",
   "execution_count": 61,
   "metadata": {},
   "outputs": [
    {
     "name": "stdout",
     "output_type": "stream",
     "text": [
      "Merhaba, Fuat\n",
      "MERHABA, FUAT!\n"
     ]
    }
   ],
   "source": [
    "class Karsilayici:\n",
    "\n",
    "    # Oluşturma\n",
    "    def __init__(self, isim):\n",
    "        self.isim = isim  # Örnek (instance) değişkeni tanımlayalım\n",
    "\n",
    "    # Örnek (instance) yöntemi\n",
    "    def selam(self, buyukHarf = False):\n",
    "        if buyukHarf:\n",
    "            print ('MERHABA, %s!' % self.isim.upper())\n",
    "        else:\n",
    "            print ('Merhaba, %s' % self.isim)\n",
    "\n",
    "g = Karsilayici('Fuat')     # Karşılayıcı sınıfında bir örnek oluşturalım \n",
    "g.selam()                   # Merhaba, Fuat\n",
    "g.selam(buyukHarf = True)   # MERHABA, FUAT!"
   ]
  },
  {
   "cell_type": "markdown",
   "metadata": {},
   "source": [
    "### Extra"
   ]
  },
  {
   "cell_type": "code",
   "execution_count": 62,
   "metadata": {},
   "outputs": [
    {
     "name": "stdout",
     "output_type": "stream",
     "text": [
      "Help on built-in function len in module __builtin__:\n",
      "\n",
      "len(...)\n",
      "    len(object) -> integer\n",
      "    \n",
      "    Return the number of items of a sequence or collection.\n",
      "\n"
     ]
    }
   ],
   "source": [
    "help(len) #komutlar hakkında bilgi verir."
   ]
  },
  {
   "cell_type": "code",
   "execution_count": 63,
   "metadata": {},
   "outputs": [
    {
     "data": {
      "text/plain": [
       "['__doc__',\n",
       " '__name__',\n",
       " '__package__',\n",
       " 'acos',\n",
       " 'acosh',\n",
       " 'asin',\n",
       " 'asinh',\n",
       " 'atan',\n",
       " 'atan2',\n",
       " 'atanh',\n",
       " 'ceil',\n",
       " 'copysign',\n",
       " 'cos',\n",
       " 'cosh',\n",
       " 'degrees',\n",
       " 'e',\n",
       " 'erf',\n",
       " 'erfc',\n",
       " 'exp',\n",
       " 'expm1',\n",
       " 'fabs',\n",
       " 'factorial',\n",
       " 'floor',\n",
       " 'fmod',\n",
       " 'frexp',\n",
       " 'fsum',\n",
       " 'gamma',\n",
       " 'hypot',\n",
       " 'isinf',\n",
       " 'isnan',\n",
       " 'ldexp',\n",
       " 'lgamma',\n",
       " 'log',\n",
       " 'log10',\n",
       " 'log1p',\n",
       " 'modf',\n",
       " 'pi',\n",
       " 'pow',\n",
       " 'radians',\n",
       " 'sin',\n",
       " 'sinh',\n",
       " 'sqrt',\n",
       " 'tan',\n",
       " 'tanh',\n",
       " 'trunc']"
      ]
     },
     "execution_count": 63,
     "metadata": {},
     "output_type": "execute_result"
    }
   ],
   "source": [
    "import math #kütüphaneyi yükler.\n",
    "\n",
    "dir(math) #math kütüphanesi ile birlikte kullanılabilecek fonksiyonları listeler."
   ]
  },
  {
   "cell_type": "code",
   "execution_count": null,
   "metadata": {},
   "outputs": [],
   "source": []
  },
  {
   "cell_type": "markdown",
   "metadata": {},
   "source": [
    "# Referans Link\n",
    "## https://docs.python.org/2/tutorial/"
   ]
  },
  {
   "cell_type": "code",
   "execution_count": null,
   "metadata": {},
   "outputs": [],
   "source": []
  }
 ],
 "metadata": {
  "kernelspec": {
   "display_name": "Python 2",
   "language": "python",
   "name": "python2"
  },
  "language_info": {
   "codemirror_mode": {
    "name": "ipython",
    "version": 2
   },
   "file_extension": ".py",
   "mimetype": "text/x-python",
   "name": "python",
   "nbconvert_exporter": "python",
   "pygments_lexer": "ipython2",
   "version": "2.7.12"
  }
 },
 "nbformat": 4,
 "nbformat_minor": 2
}
